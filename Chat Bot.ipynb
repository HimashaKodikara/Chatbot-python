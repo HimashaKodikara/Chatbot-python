{
 "cells": [
  {
   "cell_type": "markdown",
   "id": "4cbf44e5",
   "metadata": {},
   "source": [
    "# Chat Bot"
   ]
  },
  {
   "cell_type": "markdown",
   "id": "6dbfce67",
   "metadata": {},
   "source": [
    "our company is Himasha.LTD\n",
    "our ceo is Mr.Himasha\n",
    "our address is 455/15,Bunt Road\n",
    "our e-mail is h@gmail.com,tel:0118468877"
   ]
  },
  {
   "cell_type": "code",
   "execution_count": 2,
   "id": "93d1c8ee",
   "metadata": {},
   "outputs": [],
   "source": [
    "import pyttsx3 \n",
    "\n",
    "def chat():\n",
    "    m=pyttsx3.init()\n",
    "    m.setProperty(\"rate\",150)\n",
    "\n",
    "    voice1=m.getProperty('voices')[0].id\n",
    "    voice2=m.getProperty('voices')[1].id\n",
    "\n",
    "    m.say(\"Hello, i am jack. This is Alexa\")\n",
    "    m.runAndWait()\n",
    "    m.setProperty(\"voice\",voice2)\n",
    "    m.say(\"Hello, How are you\")\n",
    "    m.runAndWait()\n",
    "    m.setProperty(\"voice\",voice1)\n",
    "    m.say(\"Who do you prefer to talk with, me or Alexa\")\n",
    "    m.runAndWait()\n",
    "    choice=input(\"Enter your choice(Jack or Alexa)\")\n",
    "    if choice.lower()==\"Jack\":\n",
    "        m.setProperty(\"voice\",voice1)\n",
    "    else:\n",
    "        m.setProperty(\"voice\",voice2)\n",
    "    m.say(\"Hello, Thank you for choicing me, What is you name\")\n",
    "    m.runAndWait()   \n",
    "    name=input(\"Your name :\")\n",
    "\n",
    "    m.say(f\"hi {name}...So what do you want to know about our company?\")\n",
    "    m.runAndWait()\n",
    "    ans=input(\"Your answer:\")\n",
    "\n",
    "    flag=True\n",
    "    while flag:\n",
    "        if all(i in ans.lower().split(\" \")for i in [\"company\",\"name\"]):\n",
    "            m.say(\"Our company name is Accounting.lk\")\n",
    "            m.runAndWait()\n",
    "            m.say(\"Do you want know anything else\")\n",
    "            m.runAndWait()\n",
    "            check=input(\"Your answer:\")\n",
    "            if any(i in check.lower().split(\" \")for i in [\"Yes\",\"yes\",\"yeah\",\"sure\"]):\n",
    "                m.say(\"What do you want to know\")\n",
    "                m.runAndWait()\n",
    "                ans=input(\"Your answer:\")\n",
    "                flag=True\n",
    "            else:\n",
    "                m.say(f\"okay {name} have a nice day\")\n",
    "                m.runAndWait()\n",
    "                flag=False\n",
    "        elif all(i in ans.lower().split(\" \")for i in [\"ceo\"]):\n",
    "            m.say(\"our ceo is Mr.Hashan Waduge\")\n",
    "            m.runAndWait()\n",
    "            m.say(\"Do you want know anything else\")\n",
    "            m.runAndWait()\n",
    "            check=input(\"Your answer:\")\n",
    "            if any(i in check.lower().split(\" \")for i in [\"Yes\",\"yes\",\"yeah\",\"sure\"]):\n",
    "                m.say(\"What do you want to know\")\n",
    "                m.runAndWait()\n",
    "                ans=input(\"Your answer:\")\n",
    "                flag=True\n",
    "            else:\n",
    "                m.say(f\"okay {name} have a nice day\")\n",
    "                m.runAndWait()\n",
    "                flag=False\n",
    "        elif any(i in ans.lower().split(\" \")for i in [\"located\",\"Where\",\"place\",\"address\",\"location\"]):\n",
    "            m.say(\"our address is e=learning colombo\")\n",
    "            m.runAndWait()\n",
    "            m.say(\"Do you want know anything else\")\n",
    "            m.runAndWait()\n",
    "            check=input(\"Your answer :\")\n",
    "            if any(i in check.lower().split(\" \")for i in [\"Yes\",\"yes\",\"yeah\",\"sure\"]):\n",
    "                m.say(\"What do you want to know\")\n",
    "                m.runAndWait()\n",
    "                ans=input(\"Your answer:\")\n",
    "                flag=True\n",
    "            else:\n",
    "                m.say(f\"okay {name} have a nice day\")\n",
    "                m.runAndWait()\n",
    "                flag=False\n",
    "        elif any(i in ans.lower().split(\" \")for i in [\"number\",\"contact\",\"teliphone\"]):\n",
    "            m.say(\"our Phone number is 0112603290\")\n",
    "            print(\"0112603290\")\n",
    "            m.runAndWait()\n",
    "            m.say(\"Do you want know anything else\")\n",
    "            m.runAndWait()\n",
    "            check=input(\"Your answer :\")\n",
    "            if any(i in check.lower().split(\" \")for i in [\"Yes\",\"yes\",\"yeah\",\"sure\"]):\n",
    "                m.say(\"What do you want to know\")\n",
    "                m.runAndWait()\n",
    "                ans=input(\"Your answer:\")\n",
    "                flag=True\n",
    "            else:\n",
    "                m.say(f\"okay {name} have a nice day\")\n",
    "                m.runAndWait()\n",
    "                flag=False\n",
    "        elif any(i in ans.lower().split(\" \")for i in [\"lectures\",\"Business\",\"level1\"]):\n",
    "            m.say(\"Ther are 4 subjects to Business level1.those are Financial accounting, Business Law,Business Mathematics and Statistics, Business Environment and Economics.Financial accountig doing by Hirusha kodikara Bussiness law doing by Himasha Kodikara Business environment doing By Hirusha kodikara\")\n",
    "            m.runAndWait()\n",
    "            m.say(\"Do you want know anything else\")\n",
    "            m.runAndWait()\n",
    "            check=input(\"Your answer :\")\n",
    "            if any(i in check.lower().split(\" \")for i in [\"Yes\",\"yes\",\"yeah\",\"sure\"]):\n",
    "                m.say(\"What do you want to know\")\n",
    "                m.runAndWait()\n",
    "                ans=input(\"Your answer:\")\n",
    "                flag=True\n",
    "            else:\n",
    "                m.say(f\"okay {name} have a nice day\")\n",
    "                m.runAndWait()\n",
    "                flag=False\n",
    "        else:\n",
    "            print(f\"Jack:sorry {name} I can't undestand your question\")\n",
    "            m.say(\"Do you want know anything else\")\n",
    "            m.runAndWait()\n",
    "            check=input(\"Your answer :\")\n",
    "            if any(i in check.lower().split(\" \")for i in [\"Yes\",\"yes\",\"yeah\",\"sure\"]):\n",
    "                m.say(\"What do you want to know\")\n",
    "                m.runAndWait()\n",
    "                ans=input(\"Your answer:\")\n",
    "                flag=True\n",
    "            else:\n",
    "                m.say(f\"okay {name} have a nice day\")\n",
    "                m.runAndWait()\n",
    "                flag=False\n",
    "\n",
    "\n",
    "\n",
    "\n",
    "\n",
    "\n",
    "\n",
    "\n",
    "\n"
   ]
  },
  {
   "cell_type": "code",
   "execution_count": null,
   "id": "fbb044b3",
   "metadata": {
    "dotnet_interactive": {
     "language": "csharp"
    },
    "polyglot_notebook": {
     "kernelName": "csharp"
    }
   },
   "outputs": [],
   "source": []
  },
  {
   "cell_type": "code",
   "execution_count": 3,
   "id": "d86483b8",
   "metadata": {},
   "outputs": [
    {
     "name": "stdout",
     "output_type": "stream",
     "text": [
      "Jack:sorry Himasha I can't undestand your question\n",
      "Jack:sorry Himasha I can't undestand your question\n",
      "0112603290\n",
      "Jack:sorry Himasha I can't undestand your question\n"
     ]
    }
   ],
   "source": [
    "chat()"
   ]
  },
  {
   "cell_type": "code",
   "execution_count": null,
   "id": "fa232671",
   "metadata": {},
   "outputs": [],
   "source": []
  }
 ],
 "metadata": {
  "kernelspec": {
   "display_name": "Python 3",
   "language": "python",
   "name": "python3"
  },
  "language_info": {
   "codemirror_mode": {
    "name": "ipython",
    "version": 3
   },
   "file_extension": ".py",
   "mimetype": "text/x-python",
   "name": "python",
   "nbconvert_exporter": "python",
   "pygments_lexer": "ipython3",
   "version": "3.12.3"
  },
  "polyglot_notebook": {
   "kernelInfo": {
    "defaultKernelName": "csharp",
    "items": [
     {
      "aliases": [],
      "name": "csharp"
     }
    ]
   }
  }
 },
 "nbformat": 4,
 "nbformat_minor": 5
}
